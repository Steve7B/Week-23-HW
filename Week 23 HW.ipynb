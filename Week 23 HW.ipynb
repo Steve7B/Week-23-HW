{
 "cells": [
  {
   "cell_type": "code",
   "execution_count": 26,
   "metadata": {},
   "outputs": [],
   "source": [
    "Cheese_dic={}\n",
    "Cheese=[3,2,5,6,7,3,2]\n",
    "Name=['Max','Felix','Alex','Vivan','Ethan','Justine','Troy']"
   ]
  },
  {
   "cell_type": "code",
   "execution_count": 36,
   "metadata": {
    "scrolled": true
   },
   "outputs": [
    {
     "name": "stdout",
     "output_type": "stream",
     "text": [
      "{'Max': 3, 'Felix': 2, 'Alex': 5, 'Vivan': 6, 'Ethan': 7, 'Justine': 3, 'Troy': 2}\n"
     ]
    }
   ],
   "source": [
    "for i in range(7):\n",
    "    Cheese_dic[Name[i]]=Cheese[i]\n",
    "print(Cheese_dic)"
   ]
  },
  {
   "cell_type": "code",
   "execution_count": null,
   "metadata": {},
   "outputs": [],
   "source": []
  }
 ],
 "metadata": {
  "kernelspec": {
   "display_name": "Python 3",
   "language": "python",
   "name": "python3"
  },
  "language_info": {
   "codemirror_mode": {
    "name": "ipython",
    "version": 3
   },
   "file_extension": ".py",
   "mimetype": "text/x-python",
   "name": "python",
   "nbconvert_exporter": "python",
   "pygments_lexer": "ipython3",
   "version": "3.8.5"
  }
 },
 "nbformat": 4,
 "nbformat_minor": 4
}
